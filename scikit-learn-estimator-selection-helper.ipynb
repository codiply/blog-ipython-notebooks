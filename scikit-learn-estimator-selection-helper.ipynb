{
 "metadata": {
  "name": ""
 },
 "nbformat": 3,
 "nbformat_minor": 0,
 "worksheets": [
  {
   "cells": [
    {
     "cell_type": "code",
     "collapsed": false,
     "input": [
      "import sys\n",
      "import IPython\n",
      "import numpy as np\n",
      "import pandas as pd\n",
      "import sklearn as sk\n",
      "\n",
      "print 'Python version: %s.%s.%s' % sys.version_info[:3]\n",
      "print 'IPython version:', IPython.__version__\n",
      "print 'numpy version:', np.__version__\n",
      "print 'pandas version:', pd.__version__\n",
      "print 'scikit-learn version:', sk.__version__"
     ],
     "language": "python",
     "metadata": {},
     "outputs": [
      {
       "output_type": "stream",
       "stream": "stdout",
       "text": [
        "Python version: 2.7.6\n",
        "IPython version: 1.2.1\n",
        "numpy version: 1.8.2\n",
        "pandas version: 0.13.1\n",
        "scikit-learn version: 0.15.2\n"
       ]
      }
     ],
     "prompt_number": 1
    },
    {
     "cell_type": "markdown",
     "metadata": {},
     "source": [
      "This is a helper class for running paramater grid search across different classification or regression models. The helper takes two dictionaries as its constructor parameters. The first dictionary contains the models to be scored, while the second contains the parameters for each model (see examples below or the [GridSearchCV documentation](http://scikit-learn.org/stable/modules/generated/sklearn.grid_search.GridSearchCV.html) for the expected format). The `fit(X, y)` method runs a parameter grid search with cross validation for each model and for the given training data. After calling `fit(X, y)`, the `score_summary()` method returns a data frame with a summary of the scores."
     ]
    },
    {
     "cell_type": "code",
     "collapsed": false,
     "input": [
      "from sklearn.grid_search import GridSearchCV\n",
      "\n",
      "class EstimatorSelectionHelper:\n",
      "    def __init__(self, models, params):\n",
      "        if not set(models.keys()).issubset(set(params.keys())):\n",
      "            missing_params = list(set(models.keys()) - set(params.keys()))\n",
      "            raise ValueError(\"Some estimators are missing parameters: %s\" % missing_params)\n",
      "        self.models = models\n",
      "        self.params = params\n",
      "        self.keys = models.keys()\n",
      "        self.grid_searches = {}\n",
      "    \n",
      "    def fit(self, X, y, cv=3, n_jobs=1, verbose=1, scoring=None, refit=False):\n",
      "        for key in self.keys:\n",
      "            print(\"Running GridSearchCV for %s.\" % key)\n",
      "            model = self.models[key]\n",
      "            params = self.params[key]\n",
      "            gs = GridSearchCV(model, params, cv=cv, n_jobs=n_jobs, \n",
      "                              verbose=verbose, scoring=scoring, refit=refit)\n",
      "            gs.fit(X,y)\n",
      "            self.grid_searches[key] = gs    \n",
      "    \n",
      "    def score_summary(self, sort_by='mean_score'):\n",
      "        def row(key, scores, params):\n",
      "            d = {\n",
      "                 'estimator': key,\n",
      "                 'min_score': min(scores),\n",
      "                 'max_score': max(scores),\n",
      "                 'mean_score': mean(scores),\n",
      "                 'std_score': std(scores),\n",
      "            }\n",
      "            return pd.Series(dict(params.items() + d.items()))\n",
      "                      \n",
      "        rows = [row(k, gsc.cv_validation_scores, gsc.parameters) \n",
      "                for k in self.keys\n",
      "                for gsc in self.grid_searches[k].grid_scores_]\n",
      "        df = pd.concat(rows, axis=1).T.sort([sort_by], ascending=False)\n",
      "        \n",
      "        columns = ['estimator', 'min_score', 'mean_score', 'max_score', 'std_score']\n",
      "        columns = columns + [c for c in df.columns if c not in columns]\n",
      "        \n",
      "        return df[columns]"
     ],
     "language": "python",
     "metadata": {},
     "outputs": [],
     "prompt_number": 2
    },
    {
     "cell_type": "markdown",
     "metadata": {},
     "source": [
      "Classification example\n",
      "----"
     ]
    },
    {
     "cell_type": "markdown",
     "metadata": {},
     "source": [
      "I load the data."
     ]
    },
    {
     "cell_type": "code",
     "collapsed": false,
     "input": [
      "from sklearn import datasets\n",
      "\n",
      "iris = datasets.load_iris()\n",
      "X_iris = iris.data\n",
      "y_iris = iris.target"
     ],
     "language": "python",
     "metadata": {},
     "outputs": [],
     "prompt_number": 3
    },
    {
     "cell_type": "markdown",
     "metadata": {},
     "source": [
      "I define the models and the grid search parameters."
     ]
    },
    {
     "cell_type": "code",
     "collapsed": false,
     "input": [
      "from sklearn.ensemble import (ExtraTreesClassifier, RandomForestClassifier, \n",
      "                              AdaBoostClassifier, GradientBoostingClassifier)\n",
      "from sklearn.svm import SVC\n",
      "\n",
      "models1 = { \n",
      "    'ExtraTreesClassifier': ExtraTreesClassifier(),\n",
      "    'RandomForestClassifier': RandomForestClassifier(),\n",
      "    'AdaBoostClassifier': AdaBoostClassifier(),\n",
      "    'GradientBoostingClassifier': GradientBoostingClassifier(),\n",
      "    'SVC': SVC()\n",
      "}\n",
      "\n",
      "params1 = { \n",
      "    'ExtraTreesClassifier': { 'n_estimators': [16, 32] },\n",
      "    'RandomForestClassifier': { 'n_estimators': [16, 32] },\n",
      "    'AdaBoostClassifier':  { 'n_estimators': [16, 32] },\n",
      "    'GradientBoostingClassifier': { 'n_estimators': [16, 32], 'learning_rate': [0.8, 1.0] },\n",
      "    'SVC': [\n",
      "        {'kernel': ['linear'], 'C': [1, 10]},\n",
      "        {'kernel': ['rbf'], 'C': [1, 10], 'gamma': [0.001, 0.0001]},\n",
      "    ]\n",
      "}"
     ],
     "language": "python",
     "metadata": {},
     "outputs": [],
     "prompt_number": 4
    },
    {
     "cell_type": "markdown",
     "metadata": {},
     "source": [
      "I create the helper and fit the data."
     ]
    },
    {
     "cell_type": "code",
     "collapsed": false,
     "input": [
      "helper1 = EstimatorSelectionHelper(models1, params1)\n",
      "helper1.fit(X_iris, y_iris, scoring='f1', n_jobs=-1)"
     ],
     "language": "python",
     "metadata": {},
     "outputs": [
      {
       "output_type": "stream",
       "stream": "stdout",
       "text": [
        "Running GridSearchCV for SVC.\n",
        "Fitting 3 folds for each of 6 candidates, totalling 18 fits\n"
       ]
      },
      {
       "output_type": "stream",
       "stream": "stdout",
       "text": [
        "Running GridSearchCV for AdaBoostClassifier.\n",
        "Fitting 3 folds for each of 2 candidates, totalling 6 fits\n"
       ]
      },
      {
       "output_type": "stream",
       "stream": "stderr",
       "text": [
        "[Parallel(n_jobs=-1)]: Done   1 jobs       | elapsed:    0.0s\n",
        "[Parallel(n_jobs=-1)]: Done  16 out of  18 | elapsed:    0.0s remaining:    0.0s\n",
        "[Parallel(n_jobs=-1)]: Done  18 out of  18 | elapsed:    0.0s finished\n"
       ]
      },
      {
       "output_type": "stream",
       "stream": "stderr",
       "text": [
        "[Parallel(n_jobs=-1)]: Done   1 jobs       | elapsed:    0.0s\n",
        "[Parallel(n_jobs=-1)]: Done   4 out of   6 | elapsed:    0.1s remaining:    0.0s\n",
        "[Parallel(n_jobs=-1)]: Done   6 out of   6 | elapsed:    0.1s finished\n"
       ]
      },
      {
       "output_type": "stream",
       "stream": "stdout",
       "text": [
        "Running GridSearchCV for GradientBoostingClassifier.\n",
        "Fitting 3 folds for each of 4 candidates, totalling 12 fits\n"
       ]
      },
      {
       "output_type": "stream",
       "stream": "stderr",
       "text": [
        "[Parallel(n_jobs=-1)]: Done   1 jobs       | elapsed:    0.0s\n",
        "[Parallel(n_jobs=-1)]: Done  10 out of  12 | elapsed:    0.2s remaining:    0.0s\n",
        "[Parallel(n_jobs=-1)]: Done  12 out of  12 | elapsed:    0.3s finished\n"
       ]
      },
      {
       "output_type": "stream",
       "stream": "stdout",
       "text": [
        "Running GridSearchCV for ExtraTreesClassifier.\n",
        "Fitting 3 folds for each of 2 candidates, totalling 6 fits\n"
       ]
      },
      {
       "output_type": "stream",
       "stream": "stderr",
       "text": [
        "[Parallel(n_jobs=-1)]: Done   1 jobs       | elapsed:    0.0s\n",
        "[Parallel(n_jobs=-1)]: Done   4 out of   6 | elapsed:    0.1s remaining:    0.0s\n",
        "[Parallel(n_jobs=-1)]: Done   6 out of   6 | elapsed:    0.1s finished\n"
       ]
      },
      {
       "output_type": "stream",
       "stream": "stdout",
       "text": [
        "Running GridSearchCV for RandomForestClassifier.\n",
        "Fitting 3 folds for each of 2 candidates, totalling 6 fits\n"
       ]
      },
      {
       "output_type": "stream",
       "stream": "stderr",
       "text": [
        "[Parallel(n_jobs=-1)]: Done   1 jobs       | elapsed:    0.0s\n",
        "[Parallel(n_jobs=-1)]: Done   4 out of   6 | elapsed:    0.1s remaining:    0.0s\n",
        "[Parallel(n_jobs=-1)]: Done   6 out of   6 | elapsed:    0.1s finished\n"
       ]
      }
     ],
     "prompt_number": 5
    },
    {
     "cell_type": "markdown",
     "metadata": {},
     "source": [
      "Finally, I print the summary."
     ]
    },
    {
     "cell_type": "code",
     "collapsed": false,
     "input": [
      "helper1.score_summary(sort_by='min_score')"
     ],
     "language": "python",
     "metadata": {},
     "outputs": [
      {
       "html": [
        "<div style=\"max-height:1000px;max-width:1500px;overflow:auto;\">\n",
        "<table border=\"1\" class=\"dataframe\">\n",
        "  <thead>\n",
        "    <tr style=\"text-align: right;\">\n",
        "      <th></th>\n",
        "      <th>estimator</th>\n",
        "      <th>min_score</th>\n",
        "      <th>mean_score</th>\n",
        "      <th>max_score</th>\n",
        "      <th>std_score</th>\n",
        "      <th>C</th>\n",
        "      <th>gamma</th>\n",
        "      <th>kernel</th>\n",
        "      <th>learning_rate</th>\n",
        "      <th>n_estimators</th>\n",
        "    </tr>\n",
        "  </thead>\n",
        "  <tbody>\n",
        "    <tr>\n",
        "      <th>0 </th>\n",
        "      <td>                        SVC</td>\n",
        "      <td> 0.9606481</td>\n",
        "      <td> 0.9799315</td>\n",
        "      <td>         1</td>\n",
        "      <td> 0.01607492</td>\n",
        "      <td>   1</td>\n",
        "      <td>    NaN</td>\n",
        "      <td> linear</td>\n",
        "      <td> NaN</td>\n",
        "      <td> NaN</td>\n",
        "    </tr>\n",
        "    <tr>\n",
        "      <th>15</th>\n",
        "      <td>     RandomForestClassifier</td>\n",
        "      <td> 0.9407149</td>\n",
        "      <td> 0.9667455</td>\n",
        "      <td> 0.9803752</td>\n",
        "      <td> 0.01841322</td>\n",
        "      <td> NaN</td>\n",
        "      <td>    NaN</td>\n",
        "      <td>    NaN</td>\n",
        "      <td> NaN</td>\n",
        "      <td>  32</td>\n",
        "    </tr>\n",
        "    <tr>\n",
        "      <th>7 </th>\n",
        "      <td>         AdaBoostClassifier</td>\n",
        "      <td> 0.9407149</td>\n",
        "      <td> 0.9597533</td>\n",
        "      <td> 0.9803752</td>\n",
        "      <td>  0.0162299</td>\n",
        "      <td> NaN</td>\n",
        "      <td>    NaN</td>\n",
        "      <td>    NaN</td>\n",
        "      <td> NaN</td>\n",
        "      <td>  32</td>\n",
        "    </tr>\n",
        "    <tr>\n",
        "      <th>6 </th>\n",
        "      <td>         AdaBoostClassifier</td>\n",
        "      <td> 0.9407149</td>\n",
        "      <td> 0.9597533</td>\n",
        "      <td> 0.9803752</td>\n",
        "      <td>  0.0162299</td>\n",
        "      <td> NaN</td>\n",
        "      <td>    NaN</td>\n",
        "      <td>    NaN</td>\n",
        "      <td> NaN</td>\n",
        "      <td>  16</td>\n",
        "    </tr>\n",
        "    <tr>\n",
        "      <th>14</th>\n",
        "      <td>     RandomForestClassifier</td>\n",
        "      <td> 0.9215686</td>\n",
        "      <td> 0.9603634</td>\n",
        "      <td> 0.9803752</td>\n",
        "      <td> 0.02743661</td>\n",
        "      <td> NaN</td>\n",
        "      <td>    NaN</td>\n",
        "      <td>    NaN</td>\n",
        "      <td> NaN</td>\n",
        "      <td>  16</td>\n",
        "    </tr>\n",
        "    <tr>\n",
        "      <th>13</th>\n",
        "      <td>       ExtraTreesClassifier</td>\n",
        "      <td> 0.9215686</td>\n",
        "      <td> 0.9533712</td>\n",
        "      <td> 0.9803752</td>\n",
        "      <td> 0.02424628</td>\n",
        "      <td> NaN</td>\n",
        "      <td>    NaN</td>\n",
        "      <td>    NaN</td>\n",
        "      <td> NaN</td>\n",
        "      <td>  32</td>\n",
        "    </tr>\n",
        "    <tr>\n",
        "      <th>11</th>\n",
        "      <td> GradientBoostingClassifier</td>\n",
        "      <td> 0.9215686</td>\n",
        "      <td> 0.9673146</td>\n",
        "      <td>         1</td>\n",
        "      <td> 0.03332471</td>\n",
        "      <td> NaN</td>\n",
        "      <td>    NaN</td>\n",
        "      <td>    NaN</td>\n",
        "      <td>   1</td>\n",
        "      <td>  32</td>\n",
        "    </tr>\n",
        "    <tr>\n",
        "      <th>10</th>\n",
        "      <td> GradientBoostingClassifier</td>\n",
        "      <td> 0.9215686</td>\n",
        "      <td> 0.9673146</td>\n",
        "      <td>         1</td>\n",
        "      <td> 0.03332471</td>\n",
        "      <td> NaN</td>\n",
        "      <td>    NaN</td>\n",
        "      <td>    NaN</td>\n",
        "      <td>   1</td>\n",
        "      <td>  16</td>\n",
        "    </tr>\n",
        "    <tr>\n",
        "      <th>9 </th>\n",
        "      <td> GradientBoostingClassifier</td>\n",
        "      <td> 0.9215686</td>\n",
        "      <td> 0.9673146</td>\n",
        "      <td>         1</td>\n",
        "      <td> 0.03332471</td>\n",
        "      <td> NaN</td>\n",
        "      <td>    NaN</td>\n",
        "      <td>    NaN</td>\n",
        "      <td> 0.8</td>\n",
        "      <td>  32</td>\n",
        "    </tr>\n",
        "    <tr>\n",
        "      <th>8 </th>\n",
        "      <td> GradientBoostingClassifier</td>\n",
        "      <td> 0.9215686</td>\n",
        "      <td> 0.9673146</td>\n",
        "      <td>         1</td>\n",
        "      <td> 0.03332471</td>\n",
        "      <td> NaN</td>\n",
        "      <td>    NaN</td>\n",
        "      <td>    NaN</td>\n",
        "      <td> 0.8</td>\n",
        "      <td>  16</td>\n",
        "    </tr>\n",
        "    <tr>\n",
        "      <th>4 </th>\n",
        "      <td>                        SVC</td>\n",
        "      <td> 0.9215686</td>\n",
        "      <td> 0.9472802</td>\n",
        "      <td> 0.9791463</td>\n",
        "      <td> 0.02390546</td>\n",
        "      <td>  10</td>\n",
        "      <td>  0.001</td>\n",
        "      <td>    rbf</td>\n",
        "      <td> NaN</td>\n",
        "      <td> NaN</td>\n",
        "    </tr>\n",
        "    <tr>\n",
        "      <th>1 </th>\n",
        "      <td>                        SVC</td>\n",
        "      <td> 0.9204678</td>\n",
        "      <td> 0.9734893</td>\n",
        "      <td>         1</td>\n",
        "      <td> 0.03749182</td>\n",
        "      <td>  10</td>\n",
        "      <td>    NaN</td>\n",
        "      <td> linear</td>\n",
        "      <td> NaN</td>\n",
        "      <td> NaN</td>\n",
        "    </tr>\n",
        "    <tr>\n",
        "      <th>12</th>\n",
        "      <td>       ExtraTreesClassifier</td>\n",
        "      <td> 0.9018759</td>\n",
        "      <td> 0.9607504</td>\n",
        "      <td>         1</td>\n",
        "      <td> 0.04239446</td>\n",
        "      <td> NaN</td>\n",
        "      <td>    NaN</td>\n",
        "      <td>    NaN</td>\n",
        "      <td> NaN</td>\n",
        "      <td>  16</td>\n",
        "    </tr>\n",
        "    <tr>\n",
        "      <th>5 </th>\n",
        "      <td>                        SVC</td>\n",
        "      <td> 0.9018759</td>\n",
        "      <td> 0.9135659</td>\n",
        "      <td> 0.9369458</td>\n",
        "      <td> 0.01653211</td>\n",
        "      <td>  10</td>\n",
        "      <td> 0.0001</td>\n",
        "      <td>    rbf</td>\n",
        "      <td> NaN</td>\n",
        "      <td> NaN</td>\n",
        "    </tr>\n",
        "    <tr>\n",
        "      <th>3 </th>\n",
        "      <td>                        SVC</td>\n",
        "      <td> 0.9018759</td>\n",
        "      <td> 0.9135659</td>\n",
        "      <td> 0.9369458</td>\n",
        "      <td> 0.01653211</td>\n",
        "      <td>   1</td>\n",
        "      <td> 0.0001</td>\n",
        "      <td>    rbf</td>\n",
        "      <td> NaN</td>\n",
        "      <td> NaN</td>\n",
        "    </tr>\n",
        "    <tr>\n",
        "      <th>2 </th>\n",
        "      <td>                        SVC</td>\n",
        "      <td> 0.9018759</td>\n",
        "      <td> 0.9135659</td>\n",
        "      <td> 0.9369458</td>\n",
        "      <td> 0.01653211</td>\n",
        "      <td>   1</td>\n",
        "      <td>  0.001</td>\n",
        "      <td>    rbf</td>\n",
        "      <td> NaN</td>\n",
        "      <td> NaN</td>\n",
        "    </tr>\n",
        "  </tbody>\n",
        "</table>\n",
        "<p>16 rows \u00d7 10 columns</p>\n",
        "</div>"
       ],
       "metadata": {},
       "output_type": "pyout",
       "prompt_number": 6,
       "text": [
        "                     estimator  min_score mean_score  max_score   std_score  \\\n",
        "0                          SVC  0.9606481  0.9799315          1  0.01607492   \n",
        "15      RandomForestClassifier  0.9407149  0.9667455  0.9803752  0.01841322   \n",
        "7           AdaBoostClassifier  0.9407149  0.9597533  0.9803752   0.0162299   \n",
        "6           AdaBoostClassifier  0.9407149  0.9597533  0.9803752   0.0162299   \n",
        "14      RandomForestClassifier  0.9215686  0.9603634  0.9803752  0.02743661   \n",
        "13        ExtraTreesClassifier  0.9215686  0.9533712  0.9803752  0.02424628   \n",
        "11  GradientBoostingClassifier  0.9215686  0.9673146          1  0.03332471   \n",
        "10  GradientBoostingClassifier  0.9215686  0.9673146          1  0.03332471   \n",
        "9   GradientBoostingClassifier  0.9215686  0.9673146          1  0.03332471   \n",
        "8   GradientBoostingClassifier  0.9215686  0.9673146          1  0.03332471   \n",
        "4                          SVC  0.9215686  0.9472802  0.9791463  0.02390546   \n",
        "1                          SVC  0.9204678  0.9734893          1  0.03749182   \n",
        "12        ExtraTreesClassifier  0.9018759  0.9607504          1  0.04239446   \n",
        "5                          SVC  0.9018759  0.9135659  0.9369458  0.01653211   \n",
        "3                          SVC  0.9018759  0.9135659  0.9369458  0.01653211   \n",
        "2                          SVC  0.9018759  0.9135659  0.9369458  0.01653211   \n",
        "\n",
        "      C   gamma  kernel learning_rate n_estimators  \n",
        "0     1     NaN  linear           NaN          NaN  \n",
        "15  NaN     NaN     NaN           NaN           32  \n",
        "7   NaN     NaN     NaN           NaN           32  \n",
        "6   NaN     NaN     NaN           NaN           16  \n",
        "14  NaN     NaN     NaN           NaN           16  \n",
        "13  NaN     NaN     NaN           NaN           32  \n",
        "11  NaN     NaN     NaN             1           32  \n",
        "10  NaN     NaN     NaN             1           16  \n",
        "9   NaN     NaN     NaN           0.8           32  \n",
        "8   NaN     NaN     NaN           0.8           16  \n",
        "4    10   0.001     rbf           NaN          NaN  \n",
        "1    10     NaN  linear           NaN          NaN  \n",
        "12  NaN     NaN     NaN           NaN           16  \n",
        "5    10  0.0001     rbf           NaN          NaN  \n",
        "3     1  0.0001     rbf           NaN          NaN  \n",
        "2     1   0.001     rbf           NaN          NaN  \n",
        "\n",
        "[16 rows x 10 columns]"
       ]
      }
     ],
     "prompt_number": 6
    },
    {
     "cell_type": "markdown",
     "metadata": {},
     "source": [
      "Regression example\n",
      "----"
     ]
    },
    {
     "cell_type": "markdown",
     "metadata": {},
     "source": [
      "I load the data."
     ]
    },
    {
     "cell_type": "code",
     "collapsed": false,
     "input": [
      "diabetes = datasets.load_diabetes()\n",
      "X_diabetes = diabetes.data\n",
      "y_diabetes = diabetes.target"
     ],
     "language": "python",
     "metadata": {},
     "outputs": [],
     "prompt_number": 7
    },
    {
     "cell_type": "markdown",
     "metadata": {},
     "source": [
      "I define the models and the grid search parameters."
     ]
    },
    {
     "cell_type": "code",
     "collapsed": false,
     "input": [
      "from sklearn.ensemble import GradientBoostingRegressor\n",
      "from sklearn.linear_model import LinearRegression, Ridge, Lasso\n",
      "\n",
      "models2 = { \n",
      "    'LinearRegression': LinearRegression(),\n",
      "    'Ridge': Ridge(),\n",
      "    'Lasso': Lasso()\n",
      "}\n",
      "\n",
      "params2 = { \n",
      "    'LinearRegression': { },\n",
      "    'Ridge': { 'alpha': [0.1, 1.0] },\n",
      "    'Lasso': { 'alpha': [0.1, 1.0] }\n",
      "}"
     ],
     "language": "python",
     "metadata": {},
     "outputs": [],
     "prompt_number": 8
    },
    {
     "cell_type": "markdown",
     "metadata": {},
     "source": [
      "I create the helper and fit the data."
     ]
    },
    {
     "cell_type": "code",
     "collapsed": false,
     "input": [
      "helper2 = EstimatorSelectionHelper(models2, params2)\n",
      "helper2.fit(X_diabetes, y_diabetes, n_jobs=-1)"
     ],
     "language": "python",
     "metadata": {},
     "outputs": [
      {
       "output_type": "stream",
       "stream": "stdout",
       "text": [
        "Running GridSearchCV for Ridge.\n",
        "Fitting 3 folds for each of 2 candidates, totalling 6 fits\n"
       ]
      },
      {
       "output_type": "stream",
       "stream": "stdout",
       "text": [
        "Running GridSearchCV for LinearRegression.\n",
        "Fitting 3 folds for each of 1 candidates, totalling 3 fits\n"
       ]
      },
      {
       "output_type": "stream",
       "stream": "stderr",
       "text": [
        "[Parallel(n_jobs=-1)]: Done   1 jobs       | elapsed:    0.0s\n",
        "[Parallel(n_jobs=-1)]: Done   4 out of   6 | elapsed:    0.0s remaining:    0.0s\n",
        "[Parallel(n_jobs=-1)]: Done   6 out of   6 | elapsed:    0.0s finished\n"
       ]
      },
      {
       "output_type": "stream",
       "stream": "stdout",
       "text": [
        "Running GridSearchCV for Lasso.\n",
        "Fitting 3 folds for each of 2 candidates, totalling 6 fits\n"
       ]
      },
      {
       "output_type": "stream",
       "stream": "stderr",
       "text": [
        "[Parallel(n_jobs=-1)]: Done   1 jobs       | elapsed:    0.0s\n",
        "[Parallel(n_jobs=-1)]: Done   3 out of   3 | elapsed:    0.0s finished\n"
       ]
      },
      {
       "output_type": "stream",
       "stream": "stderr",
       "text": [
        "[Parallel(n_jobs=-1)]: Done   1 jobs       | elapsed:    0.0s\n",
        "[Parallel(n_jobs=-1)]: Done   4 out of   6 | elapsed:    0.0s remaining:    0.0s\n",
        "[Parallel(n_jobs=-1)]: Done   6 out of   6 | elapsed:    0.0s finished\n"
       ]
      }
     ],
     "prompt_number": 9
    },
    {
     "cell_type": "markdown",
     "metadata": {},
     "source": [
      "Finally, I print the summary."
     ]
    },
    {
     "cell_type": "code",
     "collapsed": false,
     "input": [
      "helper2.score_summary()"
     ],
     "language": "python",
     "metadata": {},
     "outputs": [
      {
       "html": [
        "<div style=\"max-height:1000px;max-width:1500px;overflow:auto;\">\n",
        "<table border=\"1\" class=\"dataframe\">\n",
        "  <thead>\n",
        "    <tr style=\"text-align: right;\">\n",
        "      <th></th>\n",
        "      <th>estimator</th>\n",
        "      <th>min_score</th>\n",
        "      <th>mean_score</th>\n",
        "      <th>max_score</th>\n",
        "      <th>std_score</th>\n",
        "      <th>alpha</th>\n",
        "    </tr>\n",
        "  </thead>\n",
        "  <tbody>\n",
        "    <tr>\n",
        "      <th>2</th>\n",
        "      <td> LinearRegression</td>\n",
        "      <td> 0.4693058</td>\n",
        "      <td> 0.4887028</td>\n",
        "      <td> 0.5095526</td>\n",
        "      <td> 0.01646277</td>\n",
        "      <td> NaN</td>\n",
        "    </tr>\n",
        "    <tr>\n",
        "      <th>0</th>\n",
        "      <td>            Ridge</td>\n",
        "      <td> 0.4585681</td>\n",
        "      <td> 0.4886075</td>\n",
        "      <td> 0.5120924</td>\n",
        "      <td> 0.02233731</td>\n",
        "      <td> 0.1</td>\n",
        "    </tr>\n",
        "    <tr>\n",
        "      <th>3</th>\n",
        "      <td>            Lasso</td>\n",
        "      <td> 0.4553765</td>\n",
        "      <td> 0.4866675</td>\n",
        "      <td> 0.5075812</td>\n",
        "      <td> 0.02254036</td>\n",
        "      <td> 0.1</td>\n",
        "    </tr>\n",
        "    <tr>\n",
        "      <th>1</th>\n",
        "      <td>            Ridge</td>\n",
        "      <td> 0.3700164</td>\n",
        "      <td> 0.4094274</td>\n",
        "      <td> 0.4398193</td>\n",
        "      <td> 0.02920182</td>\n",
        "      <td>   1</td>\n",
        "    </tr>\n",
        "    <tr>\n",
        "      <th>4</th>\n",
        "      <td>            Lasso</td>\n",
        "      <td> 0.3454298</td>\n",
        "      <td> 0.3538001</td>\n",
        "      <td> 0.3688473</td>\n",
        "      <td> 0.01066239</td>\n",
        "      <td>   1</td>\n",
        "    </tr>\n",
        "  </tbody>\n",
        "</table>\n",
        "<p>5 rows \u00d7 6 columns</p>\n",
        "</div>"
       ],
       "metadata": {},
       "output_type": "pyout",
       "prompt_number": 10,
       "text": [
        "          estimator  min_score mean_score  max_score   std_score alpha\n",
        "2  LinearRegression  0.4693058  0.4887028  0.5095526  0.01646277   NaN\n",
        "0             Ridge  0.4585681  0.4886075  0.5120924  0.02233731   0.1\n",
        "3             Lasso  0.4553765  0.4866675  0.5075812  0.02254036   0.1\n",
        "1             Ridge  0.3700164  0.4094274  0.4398193  0.02920182     1\n",
        "4             Lasso  0.3454298  0.3538001  0.3688473  0.01066239     1\n",
        "\n",
        "[5 rows x 6 columns]"
       ]
      }
     ],
     "prompt_number": 10
    },
    {
     "cell_type": "code",
     "collapsed": false,
     "input": [],
     "language": "python",
     "metadata": {},
     "outputs": [],
     "prompt_number": 10
    }
   ],
   "metadata": {}
  }
 ]
}